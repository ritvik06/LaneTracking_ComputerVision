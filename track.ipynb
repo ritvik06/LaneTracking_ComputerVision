{
 "cells": [
  {
   "cell_type": "code",
   "execution_count": 1,
   "metadata": {},
   "outputs": [
    {
     "ename": "ImportError",
     "evalue": "No module named 'cv2'",
     "output_type": "error",
     "traceback": [
      "\u001b[0;31m---------------------------------------------------------------------------\u001b[0m",
      "\u001b[0;31mImportError\u001b[0m                               Traceback (most recent call last)",
      "\u001b[0;32m<ipython-input-1-8ea2d79d6196>\u001b[0m in \u001b[0;36m<module>\u001b[0;34m\u001b[0m\n\u001b[0;32m----> 1\u001b[0;31m \u001b[0;32mimport\u001b[0m \u001b[0mcv2\u001b[0m\u001b[0;34m\u001b[0m\u001b[0m\n\u001b[0m\u001b[1;32m      2\u001b[0m \u001b[0;32mimport\u001b[0m \u001b[0mnumpy\u001b[0m \u001b[0;32mas\u001b[0m \u001b[0mnp\u001b[0m\u001b[0;34m\u001b[0m\u001b[0m\n\u001b[1;32m      3\u001b[0m \u001b[0;32mfrom\u001b[0m \u001b[0mscipy\u001b[0m\u001b[0;34m.\u001b[0m\u001b[0mlinalg\u001b[0m \u001b[0;32mimport\u001b[0m \u001b[0mblock_diag\u001b[0m\u001b[0;34m\u001b[0m\u001b[0m\n",
      "\u001b[0;31mImportError\u001b[0m: No module named 'cv2'"
     ]
    }
   ],
   "source": [
    "import cv2\n",
    "import numpy as np\n",
    "from scipy.linalg import block_diag"
   ]
  },
  {
   "cell_type": "code",
   "execution_count": null,
   "metadata": {},
   "outputs": [],
   "source": [
    "\n",
    "class LaneTracker:\n",
    "    def __init__(self, n_lanes, proc_noise_scale, meas_noise_scale, process_cov_parallel=0, proc_noise_type='white'):\n",
    "        self.n_lanes = n_lanes\n",
    "        self.meas_size = 4 * self.n_lanes\n",
    "        self.state_size = self.meas_size * 2\n",
    "        self.contr_size = 0\n",
    "\n",
    "        self.kf = cv2.KalmanFilter(self.state_size, self.meas_size, self.contr_size)\n",
    "        self.kf.transitionMatrix = np.eye(self.state_size, dtype=np.float32)\n",
    "        self.kf.measurementMatrix = np.zeros((self.meas_size, self.state_size), np.float32)\n",
    "        for i in range(self.meas_size):\n",
    "            self.kf.measurementMatrix[i, i*2] = 1\n",
    "\n",
    "        if proc_noise_type == 'white':\n",
    "            block = np.matrix([[0.25, 0.5],\n",
    "                               [0.5, 1.]], dtype=np.float32)\n",
    "            self.kf.processNoiseCov = block_diag(*([block] * self.meas_size)) * proc_noise_scale\n",
    "        if proc_noise_type == 'identity':\n",
    "            self.kf.processNoiseCov = np.eye(self.state_size, dtype=np.float32) * proc_noise_scale\n",
    "        for i in range(0, self.meas_size, 2):\n",
    "            for j in range(1, self.n_lanes):\n",
    "                self.kf.processNoiseCov[i, i+(j*8)] = process_cov_parallel\n",
    "                self.kf.processNoiseCov[i+(j*8), i] = process_cov_parallel\n",
    "\n",
    "        self.kf.measurementNoiseCov = np.eye(self.meas_size, dtype=np.float32) * meas_noise_scale\n",
    "\n",
    "        self.kf.errorCovPre = np.eye(self.state_size)\n",
    "\n",
    "        self.meas = np.zeros((self.meas_size, 1), np.float32)\n",
    "        self.state = np.zeros((self.state_size, 1), np.float32)\n",
    "\n",
    "        self.first_detected = False\n",
    "\n",
    "    def _update_dt(self, dt):\n",
    "        for i in range(0, self.state_size, 2):\n",
    "            self.kf.transitionMatrix[i, i+1] = dt\n",
    "\n",
    "    def _first_detect(self, lanes):\n",
    "        for l, i in zip(lanes, range(0, self.state_size, 8)):\n",
    "            self.state[i:i+8:2, 0] = l\n",
    "        self.kf.statePost = self.state\n",
    "        self.first_detected = True\n",
    "\n",
    "    def update(self, lanes):\n",
    "        if self.first_detected:\n",
    "            for l, i in zip(lanes, range(0, self.meas_size, 4)):\n",
    "                if l is not None:\n",
    "                    self.meas[i:i+4, 0] = l\n",
    "            self.kf.correct(self.meas)\n",
    "        else:\n",
    "            if lanes.count(None) == 0:\n",
    "                self._first_detect(lanes)\n",
    "\n",
    "    def predict(self, dt):\n",
    "        if self.first_detected:\n",
    "            self._update_dt(dt)\n",
    "            state = self.kf.predict()\n",
    "            lanes = []\n",
    "            for i in range(0, len(state), 8):\n",
    "                lanes.append((state[i], state[i+2], state[i+4], state[i+6]))\n",
    "            return lanes\n",
    "        else:\n",
    "            return None\n",
    "\n",
    "\n",
    "\n"
   ]
  }
 ],
 "metadata": {
  "kernelspec": {
   "display_name": "Python 3",
   "language": "python",
   "name": "python3"
  },
  "language_info": {
   "codemirror_mode": {
    "name": "ipython",
    "version": 3
   },
   "file_extension": ".py",
   "mimetype": "text/x-python",
   "name": "python",
   "nbconvert_exporter": "python",
   "pygments_lexer": "ipython3",
   "version": "3.5.2"
  }
 },
 "nbformat": 4,
 "nbformat_minor": 2
}
